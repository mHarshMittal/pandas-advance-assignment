{
 "cells": [
  {
   "cell_type": "markdown",
   "id": "6c4424c5-1b3c-408c-b911-c6ffcbd2cade",
   "metadata": {},
   "source": [
    "Q1. List any five functions of the pandas library with execution."
   ]
  },
  {
   "cell_type": "markdown",
   "id": "2b8aba5b-0733-49e2-939b-36e6b75bbc08",
   "metadata": {},
   "source": [
    "import pandas as pd\n",
    "\n",
    "df = pd.read_csv('data.csv')\n",
    "df.head()\n",
    "df.info()\n",
    "df.shape()\n",
    "df.describe()\n"
   ]
  },
  {
   "cell_type": "markdown",
   "id": "1f4ae47c-7f0b-4288-b982-e7932d3a34ec",
   "metadata": {},
   "source": [
    "Q2. Given a Pandas DataFrame df with columns 'A', 'B', and 'C', write a Python function to re-index the\n",
    "DataFrame with a new index that starts from 1 and increments by 2 for each row."
   ]
  },
  {
   "cell_type": "code",
   "execution_count": 2,
   "id": "090a97aa-edc9-4287-bccf-24dccdabf837",
   "metadata": {},
   "outputs": [
    {
     "name": "stdout",
     "output_type": "stream",
     "text": [
      "Original DataFrame:\n",
      "    A   B   C\n",
      "0  10  40  70\n",
      "1  20  50  80\n",
      "2  30  60  90\n",
      "\n",
      "Reindexed DataFrame:\n",
      "      A     B     C\n",
      "1  20.0  50.0  80.0\n",
      "3   NaN   NaN   NaN\n",
      "5   NaN   NaN   NaN\n"
     ]
    }
   ],
   "source": [
    "import pandas as pd\n",
    "\n",
    "def reindex_dataframe(df):\n",
    "    new_index = pd.RangeIndex(start=1, stop=len(df)*2, step=2)\n",
    "    df = df.reindex(new_index)\n",
    "    return df\n",
    "\n",
    "\n",
    "df = pd.DataFrame({'A': [10, 20, 30], 'B': [40, 50, 60], 'C': [70, 80, 90]})\n",
    "print(\"Original DataFrame:\")\n",
    "print(df)\n",
    "print(\"\\nReindexed DataFrame:\")\n",
    "print(reindex_dataframe(df))\n"
   ]
  },
  {
   "cell_type": "markdown",
   "id": "47d35890-c711-4616-8344-eccfdb3b075d",
   "metadata": {},
   "source": [
    "Q3. You have a Pandas DataFrame df with a column named 'Values'. Write a Python function that\n",
    "iterates over the DataFrame and calculates the sum of the first three values in the 'Values' column. The\n",
    "function should print the sum to the console.\n",
    "For example, if the 'Values' column of df contains the values [10, 20, 30, 40, 50], your function should\n",
    "calculate and print the sum of the first three values, which is 60."
   ]
  },
  {
   "cell_type": "code",
   "execution_count": 3,
   "id": "087f79b4-32bf-4523-a48d-ed76be2192cb",
   "metadata": {},
   "outputs": [
    {
     "name": "stdout",
     "output_type": "stream",
     "text": [
      "Sum of the first three values: 60\n"
     ]
    }
   ],
   "source": [
    "import pandas as pd\n",
    "\n",
    "def calculate_sum(df):\n",
    "    values = df['Values'].tolist()\n",
    "    sum_of_first_three = sum(values[:3])\n",
    "    print(\"Sum of the first three values:\", sum_of_first_three)\n",
    "\n",
    "# Example usage:\n",
    "df = pd.DataFrame({'Values': [10, 20, 30, 40, 50]})\n",
    "calculate_sum(df)\n"
   ]
  },
  {
   "cell_type": "markdown",
   "id": "20975d9d-8a01-4d5a-9438-08e6e482a468",
   "metadata": {},
   "source": [
    "Q4. Given a Pandas DataFrame df with a column 'Text', write a Python function to create a new column\n",
    "'Word_Count' that contains the number of words in each row of the 'Text' column."
   ]
  },
  {
   "cell_type": "code",
   "execution_count": 5,
   "id": "3540b5e9-9f02-4ec2-ad63-630954e18709",
   "metadata": {},
   "outputs": [
    {
     "name": "stdout",
     "output_type": "stream",
     "text": [
      "Original DataFrame:\n",
      "                  Text\n",
      "0  Hello, how are you?\n",
      "1           I am fine.\n",
      "2     Python is great!\n",
      "\n",
      "DataFrame with Word_Count:\n",
      "                  Text  Word_Count\n",
      "0  Hello, how are you?           4\n",
      "1           I am fine.           3\n",
      "2     Python is great!           3\n"
     ]
    }
   ],
   "source": [
    "import pandas as pd\n",
    "\n",
    "def add_word_count(df):\n",
    "    df['Word_Count'] = df['Text'].apply(lambda x: len(x.split()))\n",
    "    return df\n",
    "\n",
    "\n",
    "df = pd.DataFrame({'Text': ['Hello, how are you?', 'I am fine.', 'Python is great!']})\n",
    "print(\"Original DataFrame:\")\n",
    "print(df)\n",
    "print(\"\\nDataFrame with Word_Count:\")\n",
    "print(add_word_count(df))\n"
   ]
  },
  {
   "cell_type": "markdown",
   "id": "5cb39906-6ab9-4323-bcd5-3f05084ff490",
   "metadata": {},
   "source": [
    "Q5. How are DataFrame.size() and DataFrame.shape() different?"
   ]
  },
  {
   "cell_type": "markdown",
   "id": "08c75660-9e44-45a7-99c4-7b196ed282c3",
   "metadata": {},
   "source": [
    "The DataFrame.size and DataFrame.shape functions in pandas are used to get different information about the DataFrame:\n",
    "\n",
    "DataFrame.size: It returns the total number of elements in the DataFrame, which is equal to the product of the number of rows and columns.\n",
    "DataFrame.shape: It returns a tuple containing the dimensions of the DataFrame, where the first element represents the number of rows and the second element represents the number of columns."
   ]
  },
  {
   "cell_type": "code",
   "execution_count": 6,
   "id": "a07ad7a2-1483-4dd5-b295-8a99dc17f13b",
   "metadata": {},
   "outputs": [
    {
     "name": "stdout",
     "output_type": "stream",
     "text": [
      "DataFrame size: 6\n"
     ]
    }
   ],
   "source": [
    "import pandas as pd\n",
    "\n",
    "df = pd.DataFrame({'A': [1, 2, 3], 'B': [4, 5, 6]})\n",
    "size = df.size\n",
    "print(\"DataFrame size:\", size)\n"
   ]
  },
  {
   "cell_type": "markdown",
   "id": "66deb82e-a4e7-45e1-aa59-66eef5d85b05",
   "metadata": {},
   "source": [
    "import pandas as pd\n",
    "\n",
    "df = pd.DataFrame({'A': [1, 2, 3], 'B': [4, 5, 6]})\n",
    "shape = df.shape\n",
    "print(\"DataFrame shape:\", shape)\n"
   ]
  },
  {
   "cell_type": "markdown",
   "id": "900428df-2d9d-462c-b740-3a35a53c86bc",
   "metadata": {},
   "source": [
    "Q6. Which function of pandas do we use to read an excel file?"
   ]
  },
  {
   "cell_type": "markdown",
   "id": "2dc65027-8927-4399-87f7-cf2852bb82cb",
   "metadata": {},
   "source": [
    "The function used to read an Excel file in pandas is pd.read_excel():"
   ]
  },
  {
   "cell_type": "markdown",
   "id": "606e74b7-4937-422e-b8e3-dcf2ca735c60",
   "metadata": {},
   "source": [
    "import pandas as pd\n",
    "\n",
    "\n",
    "df = pd.read_excel('data.xlsx')\n"
   ]
  },
  {
   "cell_type": "markdown",
   "id": "2d6544ec-8939-4925-b996-ec64560b3fb3",
   "metadata": {},
   "source": [
    "Q7. You have a Pandas DataFrame df that contains a column named 'Email' that contains email\n",
    "addresses in the format 'username@domain.com'. Write a Python function that creates a new column\n",
    "'Username' in df that contains only the username part of each email address.\n",
    "The username is the part of the email address that appears before the '@' symbol. For example, if the\n",
    "email address is 'john.doe@example.com', the 'Username' column should contain 'john.doe'. Your\n",
    "function should extract the username from each email address and store it in the new 'Username'\n",
    "column."
   ]
  },
  {
   "cell_type": "code",
   "execution_count": 12,
   "id": "1e567288-3f51-4551-b8f4-2585d2a7edfc",
   "metadata": {},
   "outputs": [
    {
     "name": "stdout",
     "output_type": "stream",
     "text": [
      "Original DataFrame:\n",
      "                    Email\n",
      "0    john.doe@example.com\n",
      "1  jane.smith@example.com\n",
      "\n",
      "DataFrame with Username:\n",
      "                    Email    Username\n",
      "0    john.doe@example.com    john.doe\n",
      "1  jane.smith@example.com  jane.smith\n"
     ]
    }
   ],
   "source": [
    "import pandas as pd\n",
    "\n",
    "def extract_username(df):\n",
    "    df['Username'] = df['Email'].str.split('@').str[0]\n",
    "    return df\n",
    "\n",
    "\n",
    "df = pd.DataFrame({'Email': ['john.doe@example.com', 'jane.smith@example.com']})\n",
    "print(\"Original DataFrame:\")\n",
    "print(df)\n",
    "print(\"\\nDataFrame with Username:\")\n",
    "print(extract_username(df))\n"
   ]
  },
  {
   "cell_type": "markdown",
   "id": "27c3a64a-da09-4a35-8108-ceb825c77444",
   "metadata": {},
   "source": [
    "Q8. You have a Pandas DataFrame df with columns 'A', 'B', and 'C'. Write a Python function that selects\n",
    "all rows where the value in column 'A' is greater than 5 and the value in column 'B' is less than 10. The\n",
    "function should return a new DataFrame that contains only the selected rows."
   ]
  },
  {
   "cell_type": "code",
   "execution_count": 13,
   "id": "8be32f06-998e-475b-af32-3869347c8a36",
   "metadata": {},
   "outputs": [
    {
     "name": "stdout",
     "output_type": "stream",
     "text": [
      "Original DataFrame:\n",
      "   A  B  C\n",
      "0  3  5  1\n",
      "1  8  2  7\n",
      "2  6  9  4\n",
      "3  2  3  5\n",
      "4  9  1  2\n",
      "\n",
      "Selected Rows:\n",
      "   A  B  C\n",
      "1  8  2  7\n",
      "2  6  9  4\n",
      "4  9  1  2\n"
     ]
    }
   ],
   "source": [
    "import pandas as pd\n",
    "\n",
    "def select_rows(df):\n",
    "    selected_rows = df[(df['A'] > 5) & (df['B'] < 10)]\n",
    "    return selected_rows\n",
    "\n",
    "# Example usage:\n",
    "df = pd.DataFrame({'A': [3, 8, 6, 2, 9], 'B': [5, 2, 9, 3, 1], 'C': [1, 7, 4, 5, 2]})\n",
    "print(\"Original DataFrame:\")\n",
    "print(df)\n",
    "print(\"\\nSelected Rows:\")\n",
    "print(select_rows(df))\n"
   ]
  },
  {
   "cell_type": "markdown",
   "id": "b329a46b-f22b-40c2-a413-64b48ed0e824",
   "metadata": {},
   "source": [
    "Q9. Given a Pandas DataFrame df with a column 'Values', write a Python function to calculate the mean,\n",
    "median, and standard deviation of the values in the 'Values' column."
   ]
  },
  {
   "cell_type": "code",
   "execution_count": 14,
   "id": "3c51b148-7154-4578-852a-8344c5a573e7",
   "metadata": {},
   "outputs": [
    {
     "name": "stdout",
     "output_type": "stream",
     "text": [
      "Mean: 30.0\n",
      "Median: 30.0\n",
      "Standard Deviation: 15.811388300841896\n"
     ]
    }
   ],
   "source": [
    "import pandas as pd\n",
    "\n",
    "def calculate_stats(df):\n",
    "    values = df['Values']\n",
    "    mean = values.mean()\n",
    "    median = values.median()\n",
    "    std_dev = values.std()\n",
    "    print(\"Mean:\", mean)\n",
    "    print(\"Median:\", median)\n",
    "    print(\"Standard Deviation:\", std_dev)\n",
    "\n",
    "# Example usage:\n",
    "df = pd.DataFrame({'Values': [10, 20, 30, 40, 50]})\n",
    "calculate_stats(df)\n"
   ]
  },
  {
   "cell_type": "markdown",
   "id": "866f4bb5-0d4f-46e8-9f1c-987c39611b21",
   "metadata": {},
   "source": [
    "Q10. Given a Pandas DataFrame df with a column 'Sales' and a column 'Date', write a Python function to\n",
    "create a new column 'MovingAverage' that contains the moving average of the sales for the past 7 days\n",
    "for each row in the DataFrame. The moving average should be calculated using a window of size 7 and\n",
    "should include the current day."
   ]
  },
  {
   "cell_type": "code",
   "execution_count": 15,
   "id": "8cbf5d7b-85c0-47fc-8926-8bfe052c736a",
   "metadata": {},
   "outputs": [
    {
     "name": "stdout",
     "output_type": "stream",
     "text": [
      "Original DataFrame:\n",
      "   Sales\n",
      "0     10\n",
      "1     20\n",
      "2     30\n",
      "3     40\n",
      "4     50\n",
      "5     60\n",
      "6     70\n",
      "7     80\n",
      "8     90\n",
      "9    100\n",
      "\n",
      "DataFrame with MovingAverage:\n",
      "   Sales  MovingAverage\n",
      "0     10           10.0\n",
      "1     20           15.0\n",
      "2     30           20.0\n",
      "3     40           25.0\n",
      "4     50           30.0\n",
      "5     60           35.0\n",
      "6     70           40.0\n",
      "7     80           50.0\n",
      "8     90           60.0\n",
      "9    100           70.0\n"
     ]
    }
   ],
   "source": [
    "import pandas as pd\n",
    "\n",
    "def calculate_moving_average(df):\n",
    "    df['MovingAverage'] = df['Sales'].rolling(window=7, min_periods=1).mean()\n",
    "    return df\n",
    "\n",
    "# Example usage:\n",
    "df = pd.DataFrame({'Sales': [10, 20, 30, 40, 50, 60, 70, 80, 90, 100]})\n",
    "print(\"Original DataFrame:\")\n",
    "print(df)\n",
    "print(\"\\nDataFrame with MovingAverage:\")\n",
    "print(calculate_moving_average(df))\n"
   ]
  },
  {
   "cell_type": "markdown",
   "id": "94dc27c4-a9ec-47f3-9bef-352e2bb9c4d2",
   "metadata": {},
   "source": [
    "Q11. You have a Pandas DataFrame df with a column 'Date'. Write a Python function that creates a new\n",
    "column 'Weekday' in the DataFrame. The 'Weekday' column should contain the weekday name (e.g.\n",
    "Monday, Tuesday) corresponding to each date in the 'Date' column."
   ]
  },
  {
   "cell_type": "code",
   "execution_count": 17,
   "id": "858a3a7b-e582-444e-8e6c-ea94c2a23d1e",
   "metadata": {},
   "outputs": [
    {
     "name": "stdout",
     "output_type": "stream",
     "text": [
      "Original DataFrame:\n",
      "         Date\n",
      "0  2023-01-01\n",
      "1  2023-01-02\n",
      "2  2023-01-03\n",
      "3  2023-01-04\n",
      "4  2023-01-05\n",
      "\n",
      "DataFrame with Weekday:\n",
      "         Date    Weekday\n",
      "0  2023-01-01     Sunday\n",
      "1  2023-01-02     Monday\n",
      "2  2023-01-03    Tuesday\n",
      "3  2023-01-04  Wednesday\n",
      "4  2023-01-05   Thursday\n"
     ]
    }
   ],
   "source": [
    "import pandas as pd\n",
    "\n",
    "def add_weekday(df):\n",
    "    df['Weekday'] = pd.to_datetime(df['Date']).dt.day_name()\n",
    "    return df\n",
    "\n",
    "# Example usage:\n",
    "df = pd.DataFrame({'Date': ['2023-01-01', '2023-01-02', '2023-01-03', '2023-01-04', '2023-01-05']})\n",
    "print(\"Original DataFrame:\")\n",
    "print(df)\n",
    "print(\"\\nDataFrame with Weekday:\")\n",
    "print(add_weekday(df))\n"
   ]
  },
  {
   "cell_type": "markdown",
   "id": "0b07a4d1-bdf2-4d03-9423-36cc9dde1090",
   "metadata": {},
   "source": [
    "Q12. Given a Pandas DataFrame df with a column 'Date' that contains timestamps, write a Python\n",
    "function to select all rows where the date is between '2023-01-01' and '2023-01-31'."
   ]
  },
  {
   "cell_type": "code",
   "execution_count": 18,
   "id": "0200dea4-6fdd-48ea-94a9-32454284ccf6",
   "metadata": {},
   "outputs": [
    {
     "name": "stdout",
     "output_type": "stream",
     "text": [
      "Original DataFrame:\n",
      "         Date\n",
      "0  2022-12-31\n",
      "1  2023-01-01\n",
      "2  2023-01-15\n",
      "3  2023-01-31\n",
      "4  2023-02-01\n",
      "\n",
      "Selected Rows:\n",
      "         Date\n",
      "1  2023-01-01\n",
      "2  2023-01-15\n",
      "3  2023-01-31\n"
     ]
    }
   ],
   "source": [
    "import pandas as pd\n",
    "\n",
    "def select_rows_between_dates(df):\n",
    "    mask = (df['Date'] >= '2023-01-01') & (df['Date'] <= '2023-01-31')\n",
    "    selected_rows = df[mask]\n",
    "    return selected_rows\n",
    "\n",
    "# Example usage:\n",
    "df = pd.DataFrame({'Date': ['2022-12-31', '2023-01-01', '2023-01-15', '2023-01-31', '2023-02-01']})\n",
    "print(\"Original DataFrame:\")\n",
    "print(df)\n",
    "print(\"\\nSelected Rows:\")\n",
    "print(select_rows_between_dates(df))\n"
   ]
  },
  {
   "cell_type": "markdown",
   "id": "6785e4dc-04d0-417b-8916-87c70565b2c2",
   "metadata": {},
   "source": [
    "Q13. To use the basic functions of pandas, what is the first and foremost necessary library that needs to\n",
    "be imported?"
   ]
  },
  {
   "cell_type": "code",
   "execution_count": 19,
   "id": "4f6e5574-867c-47f4-aa56-f17dcea19823",
   "metadata": {},
   "outputs": [],
   "source": [
    "import pandas as pd\n"
   ]
  },
  {
   "cell_type": "code",
   "execution_count": null,
   "id": "b22b3635-c6c5-49de-a187-1c9f0b267a29",
   "metadata": {},
   "outputs": [],
   "source": []
  }
 ],
 "metadata": {
  "kernelspec": {
   "display_name": "Python 3 (ipykernel)",
   "language": "python",
   "name": "python3"
  },
  "language_info": {
   "codemirror_mode": {
    "name": "ipython",
    "version": 3
   },
   "file_extension": ".py",
   "mimetype": "text/x-python",
   "name": "python",
   "nbconvert_exporter": "python",
   "pygments_lexer": "ipython3",
   "version": "3.10.8"
  }
 },
 "nbformat": 4,
 "nbformat_minor": 5
}
